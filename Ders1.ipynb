{
 "cells": [
  {
   "attachments": {},
   "cell_type": "markdown",
   "metadata": {},
   "source": [
    "# IEEE IDU Student Community Python Dersleri\n",
    "\n",
    "> Onur Ümit Şener <br>\n",
    "> Electrical - Electronics Engineering\n",
    "\n",
    "---\n",
    "\n",
    "[Kaynak](https://www.w3schools.com/python/default.asp)\n"
   ]
  },
  {
   "attachments": {},
   "cell_type": "markdown",
   "metadata": {},
   "source": [
    "# Giriş\n"
   ]
  },
  {
   "attachments": {},
   "cell_type": "markdown",
   "metadata": {},
   "source": [
    "# Hafta 1\n"
   ]
  },
  {
   "attachments": {},
   "cell_type": "markdown",
   "metadata": {},
   "source": [
    "## Programlama nedir?\n",
    "\n",
    "- Programlama nerede kullanılır?\n",
    "- Hangi meslekler programlama yapar?\n",
    "- Yazılımcı olabilmek için hangi bölümü okumalıyız?\n",
    "- Yazılım Dilleri ile Konuşma Dillerinin Benzerliği\n",
    "  - Python ve İngilizce\n"
   ]
  },
  {
   "attachments": {},
   "cell_type": "markdown",
   "metadata": {},
   "source": [
    "### Diğer [Popüler](https://pypl.github.io/PYPL.html) Yazılım Dilleri\n",
    "\n",
    "- C/C++\n",
    "- C#\n",
    "- Java\n",
    "- Ruby\n",
    "- MATLAB\n",
    "- Web\n",
    "  - HTML\n",
    "  - JavaScript\n",
    "  - CSS\n",
    "  - PHP\n",
    "- Swift\n",
    "- Go\n",
    "- SQL\n",
    "- Lua\n"
   ]
  },
  {
   "attachments": {},
   "cell_type": "markdown",
   "metadata": {},
   "source": [
    "## Neden Python?\n",
    "\n",
    "> <img src=\"growth_graph.png\" height=500><br>\n",
    ">\n",
    "> - 2023 itibarıyla 27.7% popülerlik\n",
    "> - Kullanımı kolay\n",
    "> - Sayısız kaynak\n"
   ]
  },
  {
   "attachments": {},
   "cell_type": "markdown",
   "metadata": {},
   "source": [
    "### Python nerelerde kullanılır?\n",
    "\n",
    "- Veri Bilimi\n",
    "- AI ve Macine Learning\n",
    "- Sinyal (Görüntü, Ses İşleme)\n",
    "- Web Geliştiriciliği\n",
    "- Tasarım\n",
    "- Simülasyon\n",
    "- Prototipleme (Raspberry Pi)\n",
    "- Genel Programlama\n"
   ]
  },
  {
   "attachments": {},
   "cell_type": "markdown",
   "metadata": {},
   "source": [
    "### Temel Kavramlar\n",
    "\n",
    "- Bit, Byte\n",
    "- Decimal (Ondalık)\n",
    "- Binary (İkilik)\n",
    "- Sytnax\n",
    "- Library (Kütüphane)\n",
    "- Error, warning (Hata, Uyarı)\n",
    "- Bug, Glitch, Debug\n",
    "- Algorithm (Algoritma)\n"
   ]
  },
  {
   "attachments": {},
   "cell_type": "markdown",
   "metadata": {},
   "source": [
    "## IDE (Integrated Development Environment)\n",
    "\n",
    "- [PyCharm](https://www.jetbrains.com/pycharm/download)\n",
    "- [Visual Studio Code](https://code.visualstudio.com/)\n",
    "- [Google Colab](https://colab.research.google.com/)\n",
    "- [Anaconda](https://www.anaconda.com/products/distribution)\n"
   ]
  },
  {
   "attachments": {},
   "cell_type": "markdown",
   "metadata": {},
   "source": [
    "## Aradığınız Neredeyse Her Bilgi [Google](https://www.google.com/)'da\n",
    "\n",
    "> Sorun yaşadığınız yer + Platformunuz* + Soru kalıbı* + Sorununuz\n",
    ">\n",
    "> - python for loop example\n",
    "> - python list how to append\n",
    "> - py vscode auto format on save\n",
    "> - py enumerate\n",
    "> - python list select index range\n",
    "\n",
    "## En İyi Dostunuz [stackoverflow](https://stackoverflow.com/)\n"
   ]
  },
  {
   "attachments": {},
   "cell_type": "markdown",
   "metadata": {},
   "source": [
    "# İlk Kodumuz\n",
    "\n",
    "---\n"
   ]
  },
  {
   "attachments": {},
   "cell_type": "markdown",
   "metadata": {},
   "source": [
    "## Hello World!\n"
   ]
  },
  {
   "cell_type": "code",
   "execution_count": 36,
   "metadata": {},
   "outputs": [
    {
     "name": "stdout",
     "output_type": "stream",
     "text": [
      "Hello World!\n"
     ]
    }
   ],
   "source": [
    "print('Hello World!')"
   ]
  },
  {
   "attachments": {},
   "cell_type": "markdown",
   "metadata": {},
   "source": [
    "# Python Temel Kavramları\n"
   ]
  },
  {
   "cell_type": "code",
   "execution_count": 37,
   "metadata": {},
   "outputs": [
    {
     "name": "stdout",
     "output_type": "stream",
     "text": [
      "Hello World!\n"
     ]
    }
   ],
   "source": [
    "x = 'Hello World!'\n",
    "print(x)"
   ]
  },
  {
   "attachments": {},
   "cell_type": "markdown",
   "metadata": {},
   "source": [
    "## Variables (Değişkenler)\n"
   ]
  },
  {
   "cell_type": "code",
   "execution_count": 38,
   "metadata": {},
   "outputs": [],
   "source": [
    "x = 'Hello World'\n",
    "x = 16\n",
    "x = 10-3\n",
    "x = 24.3\n",
    "x = 22/7\n",
    "x = True\n",
    "x = None\n",
    "x = print"
   ]
  },
  {
   "cell_type": "code",
   "execution_count": 39,
   "metadata": {},
   "outputs": [
    {
     "name": "stdout",
     "output_type": "stream",
     "text": [
      "3.142857142857143\n"
     ]
    }
   ],
   "source": [
    "x = 22/7\n",
    "print(x)"
   ]
  },
  {
   "cell_type": "code",
   "execution_count": 40,
   "metadata": {},
   "outputs": [
    {
     "name": "stdout",
     "output_type": "stream",
     "text": [
      "IDU\n"
     ]
    }
   ],
   "source": [
    "func = print\n",
    "func('IDU')"
   ]
  },
  {
   "attachments": {},
   "cell_type": "markdown",
   "metadata": {},
   "source": [
    "## Operators (İşlemler)\n"
   ]
  },
  {
   "attachments": {},
   "cell_type": "markdown",
   "metadata": {},
   "source": [
    "### Arithmetic Operators (Aritmetik İşlemler)\n"
   ]
  },
  {
   "cell_type": "code",
   "execution_count": 41,
   "metadata": {},
   "outputs": [
    {
     "data": {
      "text/plain": [
       "21"
      ]
     },
     "execution_count": 41,
     "metadata": {},
     "output_type": "execute_result"
    }
   ],
   "source": [
    "2 + 4\n",
    "5 - 1\n",
    "6 * 3\n",
    "1 / 3\n",
    "2**8\n",
    "9 % 4\n",
    "360 // 17"
   ]
  },
  {
   "cell_type": "code",
   "execution_count": 42,
   "metadata": {},
   "outputs": [
    {
     "data": {
      "text/plain": [
       "1"
      ]
     },
     "execution_count": 42,
     "metadata": {},
     "output_type": "execute_result"
    }
   ],
   "source": [
    "9 % 4"
   ]
  },
  {
   "attachments": {},
   "cell_type": "markdown",
   "metadata": {},
   "source": [
    "### Assignment Operators (Atama İşlemleri)\n"
   ]
  },
  {
   "cell_type": "code",
   "execution_count": 43,
   "metadata": {},
   "outputs": [],
   "source": [
    "value = 3\n",
    "value += 1\n",
    "value -= 5\n",
    "value *= 2\n",
    "value /= 6"
   ]
  },
  {
   "cell_type": "code",
   "execution_count": 44,
   "metadata": {},
   "outputs": [],
   "source": [
    "value = 3"
   ]
  },
  {
   "cell_type": "code",
   "execution_count": 45,
   "metadata": {},
   "outputs": [],
   "source": [
    "value /= 12"
   ]
  },
  {
   "cell_type": "code",
   "execution_count": 46,
   "metadata": {},
   "outputs": [
    {
     "name": "stdout",
     "output_type": "stream",
     "text": [
      "0.25\n"
     ]
    }
   ],
   "source": [
    "print(value)"
   ]
  },
  {
   "attachments": {},
   "cell_type": "markdown",
   "metadata": {},
   "source": [
    "### Membership and Comparison Operators (Aidiyet ve Karşılaştırma İşlemleri)\n"
   ]
  },
  {
   "cell_type": "code",
   "execution_count": 47,
   "metadata": {},
   "outputs": [
    {
     "data": {
      "text/plain": [
       "False"
      ]
     },
     "execution_count": 47,
     "metadata": {},
     "output_type": "execute_result"
    }
   ],
   "source": [
    "var = 'num'\n",
    "var in 'number'\n",
    "\n",
    "12 == 12\n",
    "\n",
    "not True == ~True\n",
    "True and True == True & True\n",
    "True or False == False | True\n",
    "True ^ True"
   ]
  },
  {
   "cell_type": "code",
   "execution_count": 48,
   "metadata": {},
   "outputs": [
    {
     "data": {
      "text/plain": [
       "True"
      ]
     },
     "execution_count": 48,
     "metadata": {},
     "output_type": "execute_result"
    }
   ],
   "source": [
    "var = 'num'\n",
    "var in 'number'"
   ]
  },
  {
   "cell_type": "code",
   "execution_count": 49,
   "metadata": {},
   "outputs": [
    {
     "data": {
      "text/plain": [
       "False"
      ]
     },
     "execution_count": 49,
     "metadata": {},
     "output_type": "execute_result"
    }
   ],
   "source": [
    "False ^ False"
   ]
  },
  {
   "cell_type": "code",
   "execution_count": 50,
   "metadata": {},
   "outputs": [
    {
     "data": {
      "text/plain": [
       "True"
      ]
     },
     "execution_count": 50,
     "metadata": {},
     "output_type": "execute_result"
    }
   ],
   "source": [
    "12 == 12.0"
   ]
  },
  {
   "cell_type": "code",
   "execution_count": 51,
   "metadata": {},
   "outputs": [
    {
     "data": {
      "text/plain": [
       "False"
      ]
     },
     "execution_count": 51,
     "metadata": {},
     "output_type": "execute_result"
    }
   ],
   "source": [
    "a = 12.0\n",
    "b = int(a)\n",
    "a is b"
   ]
  },
  {
   "attachments": {},
   "cell_type": "markdown",
   "metadata": {},
   "source": [
    "## Data Types (Veri Tipleri)\n",
    "\n",
    "[Kaynak](https://www.w3schools.com/python/python_datatypes.asp)\n",
    "\n",
    "|                     |            |             |              |\n",
    "| ------------------- | ---------- | ----------- | ------------ |\n",
    "| **Text Type:**      | _str_      |             |              |\n",
    "| **Numeric Types:**  | _int_      | _float_     | _complex_    |\n",
    "| **Sequence Types:** | _list_     | _tuple_     | _range_      |\n",
    "| **Mapping Type:**   | _dict_     |             |              |\n",
    "| **Boolean Type:**   | _bool_     |             |              |\n",
    "| **None Type:**      | _NoneType_ |             |              |\n",
    "| **Set Types:**      | _set_      | _frozenset_ |              |\n",
    "| **Binary Types:**   | _bytes_    | _bytearray_ | _memoryview_ |\n",
    "|                     |            |             |              |\n"
   ]
  },
  {
   "attachments": {},
   "cell_type": "markdown",
   "metadata": {},
   "source": [
    "### Integers\n"
   ]
  },
  {
   "cell_type": "code",
   "execution_count": 52,
   "metadata": {},
   "outputs": [
    {
     "data": {
      "text/plain": [
       "(int, 3)"
      ]
     },
     "execution_count": 52,
     "metadata": {},
     "output_type": "execute_result"
    }
   ],
   "source": [
    "my_int_1 = 3\n",
    "type(my_int_1), my_int_1"
   ]
  },
  {
   "cell_type": "code",
   "execution_count": 53,
   "metadata": {},
   "outputs": [
    {
     "data": {
      "text/plain": [
       "6"
      ]
     },
     "execution_count": 53,
     "metadata": {},
     "output_type": "execute_result"
    }
   ],
   "source": [
    "my_int_2 = 6\n",
    "my_int_2"
   ]
  },
  {
   "cell_type": "code",
   "execution_count": 54,
   "metadata": {},
   "outputs": [
    {
     "data": {
      "text/plain": [
       "9"
      ]
     },
     "execution_count": 54,
     "metadata": {},
     "output_type": "execute_result"
    }
   ],
   "source": [
    "my_int_1 + my_int_2"
   ]
  },
  {
   "cell_type": "code",
   "execution_count": 55,
   "metadata": {},
   "outputs": [],
   "source": [
    "result1 = my_int_1 + my_int_2\n",
    "result2 = my_int_1 - my_int_2\n",
    "result3 = my_int_1 * my_int_2\n",
    "result4 = my_int_1 / my_int_2\n",
    "result5 = my_int_1 // my_int_2"
   ]
  },
  {
   "cell_type": "code",
   "execution_count": 56,
   "metadata": {},
   "outputs": [
    {
     "name": "stdout",
     "output_type": "stream",
     "text": [
      "9 -3 18 0.5 0\n"
     ]
    }
   ],
   "source": [
    "print(\n",
    "    result1,\n",
    "    result2,\n",
    "    result3,\n",
    "    result4,\n",
    "    result5\n",
    ")"
   ]
  },
  {
   "attachments": {},
   "cell_type": "markdown",
   "metadata": {},
   "source": [
    "### Floats\n"
   ]
  },
  {
   "cell_type": "code",
   "execution_count": 57,
   "metadata": {},
   "outputs": [
    {
     "data": {
      "text/plain": [
       "(float, 0.3333333333333333)"
      ]
     },
     "execution_count": 57,
     "metadata": {},
     "output_type": "execute_result"
    }
   ],
   "source": [
    "my_float_1 = 1/3\n",
    "type(my_float_1), my_float_1"
   ]
  },
  {
   "cell_type": "code",
   "execution_count": 58,
   "metadata": {},
   "outputs": [
    {
     "data": {
      "text/plain": [
       "333.33299999999997"
      ]
     },
     "execution_count": 58,
     "metadata": {},
     "output_type": "execute_result"
    }
   ],
   "source": [
    "my_float_2 = 999.999\n",
    "my_float_1 * my_float_2"
   ]
  },
  {
   "attachments": {},
   "cell_type": "markdown",
   "metadata": {},
   "source": [
    "### Boolean (Doğru - Yanlış ifadeleri)\n"
   ]
  },
  {
   "cell_type": "code",
   "execution_count": 59,
   "metadata": {},
   "outputs": [
    {
     "data": {
      "text/plain": [
       "True"
      ]
     },
     "execution_count": 59,
     "metadata": {},
     "output_type": "execute_result"
    }
   ],
   "source": [
    "True"
   ]
  },
  {
   "cell_type": "code",
   "execution_count": 60,
   "metadata": {},
   "outputs": [
    {
     "data": {
      "text/plain": [
       "False"
      ]
     },
     "execution_count": 60,
     "metadata": {},
     "output_type": "execute_result"
    }
   ],
   "source": [
    "False"
   ]
  },
  {
   "cell_type": "code",
   "execution_count": 61,
   "metadata": {},
   "outputs": [
    {
     "name": "stdout",
     "output_type": "stream",
     "text": [
      "True False True\n"
     ]
    }
   ],
   "source": [
    "a = 3 == 1 + 2\n",
    "b = 6 > 8\n",
    "c = 7 <= 7.1\n",
    "print(a, b, c)"
   ]
  },
  {
   "cell_type": "code",
   "execution_count": 62,
   "metadata": {},
   "outputs": [
    {
     "name": "stdout",
     "output_type": "stream",
     "text": [
      "False True True\n"
     ]
    }
   ],
   "source": [
    "print(\n",
    "    a and b,\n",
    "    a or b,\n",
    "    c and a\n",
    ")"
   ]
  },
  {
   "attachments": {},
   "cell_type": "markdown",
   "metadata": {},
   "source": [
    "### Strings\n"
   ]
  },
  {
   "cell_type": "code",
   "execution_count": 63,
   "metadata": {},
   "outputs": [
    {
     "data": {
      "text/plain": [
       "'IEEE IDU'"
      ]
     },
     "execution_count": 63,
     "metadata": {},
     "output_type": "execute_result"
    }
   ],
   "source": [
    "my_string_1 = 'IEEE IDU'\n",
    "my_string_1"
   ]
  },
  {
   "cell_type": "code",
   "execution_count": 64,
   "metadata": {},
   "outputs": [
    {
     "data": {
      "text/plain": [
       "'IEEE IDU'"
      ]
     },
     "execution_count": 64,
     "metadata": {},
     "output_type": "execute_result"
    }
   ],
   "source": [
    "my_string_2 = \"IEEE IDU\"\n",
    "my_string_2"
   ]
  },
  {
   "cell_type": "code",
   "execution_count": 65,
   "metadata": {},
   "outputs": [
    {
     "data": {
      "text/plain": [
       "True"
      ]
     },
     "execution_count": 65,
     "metadata": {},
     "output_type": "execute_result"
    }
   ],
   "source": [
    "my_string_1 == my_string_2"
   ]
  },
  {
   "cell_type": "code",
   "execution_count": 66,
   "metadata": {},
   "outputs": [
    {
     "data": {
      "text/plain": [
       "False"
      ]
     },
     "execution_count": 66,
     "metadata": {},
     "output_type": "execute_result"
    }
   ],
   "source": [
    "my_string_1 is my_string_2"
   ]
  },
  {
   "cell_type": "code",
   "execution_count": 67,
   "metadata": {},
   "outputs": [
    {
     "data": {
      "text/plain": [
       "True"
      ]
     },
     "execution_count": 67,
     "metadata": {},
     "output_type": "execute_result"
    }
   ],
   "source": [
    "my_string_3 = '''IEEE IDU'''\n",
    "my_string_4 = \"\"\"IEEE IDU\"\"\"\n",
    "my_string_1 == my_string_2 == my_string_3 == my_string_4"
   ]
  },
  {
   "cell_type": "code",
   "execution_count": 68,
   "metadata": {},
   "outputs": [
    {
     "data": {
      "text/plain": [
       "False"
      ]
     },
     "execution_count": 68,
     "metadata": {},
     "output_type": "execute_result"
    }
   ],
   "source": [
    "my_string_5 = 'ieee idu'\n",
    "my_string_1 == my_string_5"
   ]
  },
  {
   "cell_type": "code",
   "execution_count": 69,
   "metadata": {},
   "outputs": [
    {
     "data": {
      "text/plain": [
       "(str, '21')"
      ]
     },
     "execution_count": 69,
     "metadata": {},
     "output_type": "execute_result"
    }
   ],
   "source": [
    "my_string_6 = '21'\n",
    "type(my_string_6), my_string_6"
   ]
  },
  {
   "cell_type": "code",
   "execution_count": 70,
   "metadata": {},
   "outputs": [
    {
     "data": {
      "text/plain": [
       "(int, 21)"
      ]
     },
     "execution_count": 70,
     "metadata": {},
     "output_type": "execute_result"
    }
   ],
   "source": [
    "my_int_from_string = int(my_string_6)\n",
    "type(my_int_from_string), my_int_from_string"
   ]
  },
  {
   "attachments": {},
   "cell_type": "markdown",
   "metadata": {},
   "source": [
    "#### String Formatting (String Düzenleme)\n"
   ]
  },
  {
   "cell_type": "code",
   "execution_count": 72,
   "metadata": {},
   "outputs": [],
   "source": [
    "str_1 = 'IEEE'\n",
    "str_2 = 'IDU'\n",
    "int_1 = 2023"
   ]
  },
  {
   "attachments": {},
   "cell_type": "markdown",
   "metadata": {},
   "source": [
    "##### Concatenation (Arkasına Ekleme)\n"
   ]
  },
  {
   "cell_type": "code",
   "execution_count": 82,
   "metadata": {},
   "outputs": [
    {
     "data": {
      "text/plain": [
       "'IEEE IDU'"
      ]
     },
     "execution_count": 82,
     "metadata": {},
     "output_type": "execute_result"
    }
   ],
   "source": [
    "str_1 + ' ' + str_2"
   ]
  },
  {
   "cell_type": "code",
   "execution_count": 84,
   "metadata": {},
   "outputs": [
    {
     "name": "stdout",
     "output_type": "stream",
     "text": [
      "Okulumuzun IEEE IDU kulübü olarak 2023 yılı bahar döneminde Python dersi veriyoruz\n"
     ]
    }
   ],
   "source": [
    "print('Okulumuzun ' + str_1 + ' ' + str_2 + ' kulübü olarak ' +\n",
    "      str(int_1) + ' yılı bahar döneminde Python dersi veriyoruz')"
   ]
  },
  {
   "cell_type": "code",
   "execution_count": 85,
   "metadata": {},
   "outputs": [
    {
     "name": "stdout",
     "output_type": "stream",
     "text": [
      "Okulumuzun IEEE IDU kulübü olarak 2023 yılı bahar döneminde Python dersi veriyoruz\n"
     ]
    }
   ],
   "source": [
    "print('Okulumuzun', str_1, str_2, 'kulübü olarak', int_1,\n",
    "      'yılı bahar döneminde Python dersi veriyoruz')"
   ]
  },
  {
   "attachments": {},
   "cell_type": "markdown",
   "metadata": {},
   "source": [
    "##### .format() fonksiyonu\n"
   ]
  },
  {
   "cell_type": "code",
   "execution_count": 92,
   "metadata": {},
   "outputs": [
    {
     "name": "stdout",
     "output_type": "stream",
     "text": [
      "Okulumuzun IEEE IDU kulübü olarak 2023 yılı bahar döneminde Python dersi veriyoruz\n",
      "Okulumuzun IEEE IDU kulübü olarak 2023 yılı bahar döneminde Python dersi veriyoruz\n"
     ]
    }
   ],
   "source": [
    "print('Okulumuzun {} {} kulübü olarak {} yılı bahar döneminde Python dersi veriyoruz'.format(str_1, str_2, int_1))\n",
    "print('Okulumuzun {0} {1} kulübü olarak {2} yılı bahar döneminde Python dersi veriyoruz'.format(str_1, str_2, int_1))"
   ]
  },
  {
   "attachments": {},
   "cell_type": "markdown",
   "metadata": {},
   "source": [
    "##### f-string\n"
   ]
  },
  {
   "cell_type": "code",
   "execution_count": 94,
   "metadata": {},
   "outputs": [
    {
     "name": "stdout",
     "output_type": "stream",
     "text": [
      "Okulumuzun IEEE IDU kulübü olarak 2023 yılı bahar döneminde Python dersi veriyoruz\n"
     ]
    }
   ],
   "source": [
    "print(f'Okulumuzun {str_1} {str_2} kulübü olarak {int_1} yılı bahar döneminde Python dersi veriyoruz')"
   ]
  },
  {
   "attachments": {},
   "cell_type": "markdown",
   "metadata": {},
   "source": [
    "### Escape Characters\n"
   ]
  },
  {
   "cell_type": "code",
   "execution_count": 97,
   "metadata": {},
   "outputs": [
    {
     "name": "stdout",
     "output_type": "stream",
     "text": [
      "İzmir'in Karabağlar ilçesi\n"
     ]
    }
   ],
   "source": [
    "print(\"İzmir'in Karabağlar ilçesi\")"
   ]
  },
  {
   "cell_type": "code",
   "execution_count": 96,
   "metadata": {},
   "outputs": [
    {
     "name": "stdout",
     "output_type": "stream",
     "text": [
      "İzmir'in Karabağlar ilçesi\n"
     ]
    }
   ],
   "source": [
    "print('İzmir\\'in Karabağlar ilçesi')"
   ]
  },
  {
   "cell_type": "code",
   "execution_count": 99,
   "metadata": {},
   "outputs": [
    {
     "name": "stdout",
     "output_type": "stream",
     "text": [
      "İlk satırımı yazdıktan sonra yazıma \n",
      "alt satırda devam etmek istiyorum\n"
     ]
    }
   ],
   "source": [
    "print('İlk satırımı yazdıktan sonra yazıma \\nalt satırda devam etmek istiyorum')"
   ]
  },
  {
   "cell_type": "code",
   "execution_count": 100,
   "metadata": {},
   "outputs": [
    {
     "name": "stdout",
     "output_type": "stream",
     "text": [
      "Elma, \tArmut, \tPortakal \n",
      "Kavun, \tKiraz, \tÇilek\n"
     ]
    }
   ],
   "source": [
    "print('Elma, \\tArmut, \\tPortakal \\nKavun, \\tKiraz, \\tÇilek')"
   ]
  },
  {
   "cell_type": "code",
   "execution_count": 111,
   "metadata": {},
   "outputs": [
    {
     "ename": "SyntaxError",
     "evalue": "unterminated string literal (detected at line 2) (1012206419.py, line 2)",
     "output_type": "error",
     "traceback": [
      "\u001b[1;36m  Cell \u001b[1;32mIn[111], line 2\u001b[1;36m\u001b[0m\n\u001b[1;33m    os.startfile('C:\\Users\\')\u001b[0m\n\u001b[1;37m                 ^\u001b[0m\n\u001b[1;31mSyntaxError\u001b[0m\u001b[1;31m:\u001b[0m unterminated string literal (detected at line 2)\n"
     ]
    }
   ],
   "source": [
    "import os\n",
    "os.startfile('C:\\Users\\')"
   ]
  },
  {
   "cell_type": "code",
   "execution_count": 112,
   "metadata": {},
   "outputs": [],
   "source": [
    "os.startfile('C:\\\\Users\\\\')"
   ]
  },
  {
   "cell_type": "code",
   "execution_count": 105,
   "metadata": {},
   "outputs": [
    {
     "name": "stdout",
     "output_type": "stream",
     "text": [
      "Lorem ipsum dolor sit amet, consectetur adipiscing elit.\\ Integer vitae ante sit amet nulla fringilla luctus eget non felis. Etiam eget elementum metus, quis maximus nulla. Suspendisse nec purus ipsum. Donec purus odio, iaculis a eleifend et, hendrerit non diam. Phasellus luctus tellus non feugiat facilisis. Sed ut nibh eget magna scelerisque porta eu sit amet nulla. Donec dictum nulla in dui sodales venenatis vel a elit.\n"
     ]
    }
   ],
   "source": [
    "print('Lorem ipsum dolor sit amet, consectetur adipiscing elit.\\\n",
    " Integer vitae ante sit amet nulla fringilla luctus eget non felis.\\\n",
    " Etiam eget elementum metus, quis maximus nulla. Suspendisse nec purus ipsum.\\\n",
    " Donec purus odio, iaculis a eleifend et, hendrerit non diam.\\\n",
    " Phasellus luctus tellus non feugiat facilisis.\\\n",
    " Sed ut nibh eget magna scelerisque porta eu sit amet nulla.\\\n",
    " Donec dictum nulla in dui sodales venenatis vel a elit.')"
   ]
  },
  {
   "attachments": {},
   "cell_type": "markdown",
   "metadata": {},
   "source": [
    "### Data Collections (Arrays) [Veri Toplulukları]\n"
   ]
  },
  {
   "attachments": {},
   "cell_type": "markdown",
   "metadata": {},
   "source": [
    "#### Sets\n",
    "\n",
    "- Unordered, immutable (unchangeable), and unindexed. No duplicate members.\n",
    "  - Sırasız, Değiştirilemez, Tekrara izin vermez\n"
   ]
  },
  {
   "cell_type": "code",
   "execution_count": 106,
   "metadata": {},
   "outputs": [
    {
     "data": {
      "text/plain": [
       "{1, 2, 'a', 'b', 'c'}"
      ]
     },
     "execution_count": 106,
     "metadata": {},
     "output_type": "execute_result"
    }
   ],
   "source": [
    "my_set_1 = {'a', 'b', 'c', 1, 2}\n",
    "my_set_1"
   ]
  },
  {
   "cell_type": "code",
   "execution_count": 107,
   "metadata": {},
   "outputs": [
    {
     "data": {
      "text/plain": [
       "set"
      ]
     },
     "execution_count": 107,
     "metadata": {},
     "output_type": "execute_result"
    }
   ],
   "source": [
    "type(my_set_1)"
   ]
  },
  {
   "cell_type": "code",
   "execution_count": 108,
   "metadata": {},
   "outputs": [
    {
     "data": {
      "text/plain": [
       "{1, 2, 'a', 'b', 'c'}"
      ]
     },
     "execution_count": 108,
     "metadata": {},
     "output_type": "execute_result"
    }
   ],
   "source": [
    "my_set_2 = {'a', 'b', 'c', 1, 2, 'a'}\n",
    "my_set_2"
   ]
  },
  {
   "cell_type": "code",
   "execution_count": 109,
   "metadata": {},
   "outputs": [
    {
     "name": "stdout",
     "output_type": "stream",
     "text": [
      "5\n"
     ]
    }
   ],
   "source": [
    "print(len(my_set_2))"
   ]
  },
  {
   "cell_type": "code",
   "execution_count": 110,
   "metadata": {},
   "outputs": [
    {
     "ename": "TypeError",
     "evalue": "'set' object is not subscriptable",
     "output_type": "error",
     "traceback": [
      "\u001b[1;31m---------------------------------------------------------------------------\u001b[0m",
      "\u001b[1;31mTypeError\u001b[0m                                 Traceback (most recent call last)",
      "Cell \u001b[1;32mIn[110], line 1\u001b[0m\n\u001b[1;32m----> 1\u001b[0m my_set_2[\u001b[39m1\u001b[39;49m]\n",
      "\u001b[1;31mTypeError\u001b[0m: 'set' object is not subscriptable"
     ]
    }
   ],
   "source": [
    "my_set_2[1]"
   ]
  },
  {
   "cell_type": "code",
   "execution_count": 111,
   "metadata": {},
   "outputs": [
    {
     "name": "stdout",
     "output_type": "stream",
     "text": [
      "1\n",
      "2\n",
      "c\n",
      "a\n",
      "b\n"
     ]
    }
   ],
   "source": [
    "for item in my_set_2:\n",
    "    print(item)"
   ]
  },
  {
   "attachments": {},
   "cell_type": "markdown",
   "metadata": {},
   "source": [
    "#### Tuples\n",
    "\n",
    "- Ordered and immutable (unchangeable). Allows duplicate members.\n",
    "  - Sıralı, Değiştirilemez, Tekrara izin verir.\n"
   ]
  },
  {
   "cell_type": "code",
   "execution_count": 117,
   "metadata": {},
   "outputs": [
    {
     "data": {
      "text/plain": [
       "('a', 'b', 'c')"
      ]
     },
     "execution_count": 117,
     "metadata": {},
     "output_type": "execute_result"
    }
   ],
   "source": [
    "my_tuple_1 = ('a', 'b', 'c')\n",
    "my_tuple_1"
   ]
  },
  {
   "cell_type": "code",
   "execution_count": 114,
   "metadata": {},
   "outputs": [
    {
     "data": {
      "text/plain": [
       "tuple"
      ]
     },
     "execution_count": 114,
     "metadata": {},
     "output_type": "execute_result"
    }
   ],
   "source": [
    "type(my_tuple_1)"
   ]
  },
  {
   "cell_type": "code",
   "execution_count": 115,
   "metadata": {},
   "outputs": [
    {
     "data": {
      "text/plain": [
       "('a', 'b', 1, 2)"
      ]
     },
     "execution_count": 115,
     "metadata": {},
     "output_type": "execute_result"
    }
   ],
   "source": [
    "my_tuple_2 = ('a', 'b', 1, 2)\n",
    "my_tuple_2"
   ]
  },
  {
   "cell_type": "code",
   "execution_count": 116,
   "metadata": {},
   "outputs": [
    {
     "data": {
      "text/plain": [
       "'a'"
      ]
     },
     "execution_count": 116,
     "metadata": {},
     "output_type": "execute_result"
    }
   ],
   "source": [
    "my_tuple_2[0]"
   ]
  },
  {
   "cell_type": "code",
   "execution_count": 118,
   "metadata": {},
   "outputs": [
    {
     "name": "stdout",
     "output_type": "stream",
     "text": [
      "a b c ('a', 'b', 'c')\n"
     ]
    }
   ],
   "source": [
    "item1, item2, item3 = my_tuple_1\n",
    "print(item1, item2, item3, my_tuple_1)"
   ]
  },
  {
   "cell_type": "code",
   "execution_count": 119,
   "metadata": {},
   "outputs": [
    {
     "name": "stdout",
     "output_type": "stream",
     "text": [
      "apple banana ['cherry', 'strawberry', 'raspberry']\n"
     ]
    }
   ],
   "source": [
    "fruits = (\"apple\", \"banana\", \"cherry\", \"strawberry\", \"raspberry\")\n",
    "\n",
    "(green, yellow, *red) = fruits\n",
    "\n",
    "print(green, yellow, red)"
   ]
  },
  {
   "attachments": {},
   "cell_type": "markdown",
   "metadata": {},
   "source": [
    "#### Lists\n",
    "\n",
    "- Ordered and mutable (changeable). Allows duplicate members.\n",
    "  - Sıralı, Değiştirilebilir, Tekrara izin verir.\n"
   ]
  },
  {
   "cell_type": "code",
   "execution_count": 120,
   "metadata": {},
   "outputs": [
    {
     "data": {
      "text/plain": [
       "['a', 'b', 1, 2, 3]"
      ]
     },
     "execution_count": 120,
     "metadata": {},
     "output_type": "execute_result"
    }
   ],
   "source": [
    "my_list_1 = ['a', 'b', 1, 2, 3]\n",
    "my_list_1"
   ]
  },
  {
   "cell_type": "code",
   "execution_count": 122,
   "metadata": {},
   "outputs": [
    {
     "data": {
      "text/plain": [
       "2"
      ]
     },
     "execution_count": 122,
     "metadata": {},
     "output_type": "execute_result"
    }
   ],
   "source": [
    "my_list_1[3]"
   ]
  },
  {
   "attachments": {},
   "cell_type": "markdown",
   "metadata": {},
   "source": [
    "##### Slicing\n"
   ]
  },
  {
   "cell_type": "code",
   "execution_count": 124,
   "metadata": {},
   "outputs": [
    {
     "data": {
      "text/plain": [
       "['b', 1]"
      ]
     },
     "execution_count": 124,
     "metadata": {},
     "output_type": "execute_result"
    }
   ],
   "source": [
    "list_selection_1 = my_list_1[1:3]\n",
    "list_selection_1"
   ]
  },
  {
   "cell_type": "code",
   "execution_count": 126,
   "metadata": {},
   "outputs": [
    {
     "data": {
      "text/plain": [
       "['a', 'b', 1, 2, 3]"
      ]
     },
     "execution_count": 126,
     "metadata": {},
     "output_type": "execute_result"
    }
   ],
   "source": [
    "list_selection_2 = my_list_1[:]\n",
    "list_selection_2"
   ]
  },
  {
   "cell_type": "code",
   "execution_count": 129,
   "metadata": {},
   "outputs": [
    {
     "data": {
      "text/plain": [
       "['a', 'b']"
      ]
     },
     "execution_count": 129,
     "metadata": {},
     "output_type": "execute_result"
    }
   ],
   "source": [
    "list_selection_3 = my_list_1[:2]\n",
    "list_selection_3"
   ]
  },
  {
   "cell_type": "code",
   "execution_count": 131,
   "metadata": {},
   "outputs": [
    {
     "data": {
      "text/plain": [
       "[1, 2, 3]"
      ]
     },
     "execution_count": 131,
     "metadata": {},
     "output_type": "execute_result"
    }
   ],
   "source": [
    "list_selection_4 = my_list_1[2:]\n",
    "list_selection_4"
   ]
  },
  {
   "cell_type": "code",
   "execution_count": 132,
   "metadata": {},
   "outputs": [
    {
     "data": {
      "text/plain": [
       "['a', 1, 3]"
      ]
     },
     "execution_count": 132,
     "metadata": {},
     "output_type": "execute_result"
    }
   ],
   "source": [
    "list_selection_5 = my_list_1[::2]\n",
    "list_selection_5"
   ]
  },
  {
   "cell_type": "code",
   "execution_count": 135,
   "metadata": {},
   "outputs": [
    {
     "data": {
      "text/plain": [
       "[3, 2, 1]"
      ]
     },
     "execution_count": 135,
     "metadata": {},
     "output_type": "execute_result"
    }
   ],
   "source": [
    "list_selection_6 = my_list_1[-1:1:-1]\n",
    "list_selection_6"
   ]
  },
  {
   "cell_type": "code",
   "execution_count": 127,
   "metadata": {},
   "outputs": [],
   "source": [
    "list_selection_1 = my_list_1[1:3]\n",
    "list_selection_2 = my_list_1[:]\n",
    "list_selection_3 = my_list_1[:2]\n",
    "list_selection_4 = my_list_1[3:]\n",
    "list_selection_5 = my_list_1[::2]\n",
    "list_selection_6 = my_list_1[-1:2:-2]"
   ]
  },
  {
   "cell_type": "code",
   "execution_count": 128,
   "metadata": {},
   "outputs": [
    {
     "name": "stdout",
     "output_type": "stream",
     "text": [
      "['b', 1] ['a', 'b', 1, 2, 3] ['a', 'b'] [2, 3] ['a', 1, 3] [3]\n"
     ]
    }
   ],
   "source": [
    "print(\n",
    "    list_selection_1,\n",
    "    list_selection_2,\n",
    "    list_selection_3,\n",
    "    list_selection_4,\n",
    "    list_selection_5,\n",
    "    list_selection_6,\n",
    ")"
   ]
  },
  {
   "attachments": {},
   "cell_type": "markdown",
   "metadata": {},
   "source": [
    "##### Appending\n"
   ]
  },
  {
   "cell_type": "code",
   "execution_count": 139,
   "metadata": {},
   "outputs": [],
   "source": [
    "my_list_2 = [1, 2, 3]\n",
    "my_list_3 = [4, 5, 6]"
   ]
  },
  {
   "cell_type": "code",
   "execution_count": 140,
   "metadata": {},
   "outputs": [],
   "source": [
    "for i in my_list_3:\n",
    "    my_list_2.append(i)"
   ]
  },
  {
   "cell_type": "code",
   "execution_count": 141,
   "metadata": {},
   "outputs": [
    {
     "data": {
      "text/plain": [
       "[1, 2, 3, 4, 5, 6]"
      ]
     },
     "execution_count": 141,
     "metadata": {},
     "output_type": "execute_result"
    }
   ],
   "source": [
    "my_list_2"
   ]
  },
  {
   "attachments": {},
   "cell_type": "markdown",
   "metadata": {},
   "source": [
    "#### Dictionaries\n",
    "\n",
    "- Ordered (3.6 and after) and mutable (changeable). No duplicate members.\n",
    "  - Sıralı\\*, Değiştirilebilir, Tekrara izin vermez\n"
   ]
  },
  {
   "cell_type": "code",
   "execution_count": 161,
   "metadata": {},
   "outputs": [],
   "source": [
    "my_dict_1 = {\n",
    "    'key': 'value',\n",
    "    'name': 'Onur Umit Sener',\n",
    "    'age': 21,\n",
    "    'education': {\n",
    "        'school': 'IDU',\n",
    "        'ongoing': True,\n",
    "    },\n",
    "    5: 'five',\n",
    "    'liste': [1, 2, 3, 4]\n",
    "}"
   ]
  },
  {
   "cell_type": "code",
   "execution_count": 152,
   "metadata": {},
   "outputs": [
    {
     "data": {
      "text/plain": [
       "[1, 2, 3, 4]"
      ]
     },
     "execution_count": 152,
     "metadata": {},
     "output_type": "execute_result"
    }
   ],
   "source": [
    "my_dict_1['liste']"
   ]
  },
  {
   "cell_type": "code",
   "execution_count": 153,
   "metadata": {},
   "outputs": [
    {
     "name": "stdout",
     "output_type": "stream",
     "text": [
      "key\n",
      "name\n",
      "age\n",
      "education\n",
      "5\n",
      "liste\n"
     ]
    }
   ],
   "source": [
    "for item in my_dict_1:\n",
    "    print(item)"
   ]
  },
  {
   "cell_type": "code",
   "execution_count": 154,
   "metadata": {},
   "outputs": [
    {
     "name": "stdout",
     "output_type": "stream",
     "text": [
      "value\n",
      "Onur Umit Sener\n",
      "21\n",
      "{'school': 'IDU', 'ongoing': True}\n",
      "five\n",
      "[1, 2, 3, 4]\n"
     ]
    }
   ],
   "source": [
    "for item in my_dict_1.values():\n",
    "    print(item)"
   ]
  },
  {
   "cell_type": "code",
   "execution_count": 155,
   "metadata": {},
   "outputs": [
    {
     "name": "stdout",
     "output_type": "stream",
     "text": [
      "Key: key,\t Value: value\n",
      "Key: name,\t Value: Onur Umit Sener\n",
      "Key: age,\t Value: 21\n",
      "Key: education,\t Value: {'school': 'IDU', 'ongoing': True}\n",
      "Key: 5,\t Value: five\n",
      "Key: liste,\t Value: [1, 2, 3, 4]\n"
     ]
    }
   ],
   "source": [
    "for key, value in my_dict_1.items():\n",
    "    print(f'Key: {key},\\t Value: {value}')"
   ]
  },
  {
   "cell_type": "code",
   "execution_count": 156,
   "metadata": {},
   "outputs": [],
   "source": [
    "my_dict_1['color'] = 'blue'"
   ]
  },
  {
   "cell_type": "code",
   "execution_count": 162,
   "metadata": {},
   "outputs": [
    {
     "data": {
      "text/plain": [
       "{'key': 'value',\n",
       " 'name': 'Onur Umit Sener',\n",
       " 'age': 21,\n",
       " 'education': {'school': 'IDU', 'ongoing': True},\n",
       " 5: 'five',\n",
       " 'liste': [1, 2, 3, 4],\n",
       " 'color': 'red'}"
      ]
     },
     "execution_count": 162,
     "metadata": {},
     "output_type": "execute_result"
    }
   ],
   "source": [
    "my_dict_1['color'] = 'red'\n",
    "my_dict_1"
   ]
  },
  {
   "cell_type": "code",
   "execution_count": 163,
   "metadata": {},
   "outputs": [
    {
     "data": {
      "text/plain": [
       "{'name': 'Onur Umit Sener',\n",
       " 'age': 21,\n",
       " 'education': {'school': 'IDU', 'ongoing': True},\n",
       " 5: 'five',\n",
       " 'liste': [1, 2, 3, 4],\n",
       " 'color': 'red'}"
      ]
     },
     "execution_count": 163,
     "metadata": {},
     "output_type": "execute_result"
    }
   ],
   "source": [
    "del my_dict_1['key']\n",
    "my_dict_1"
   ]
  },
  {
   "cell_type": "code",
   "execution_count": 166,
   "metadata": {},
   "outputs": [],
   "source": [
    "popped_value = my_dict_1.pop('color')"
   ]
  },
  {
   "cell_type": "code",
   "execution_count": 167,
   "metadata": {},
   "outputs": [
    {
     "data": {
      "text/plain": [
       "'red'"
      ]
     },
     "execution_count": 167,
     "metadata": {},
     "output_type": "execute_result"
    }
   ],
   "source": [
    "popped_value"
   ]
  },
  {
   "cell_type": "code",
   "execution_count": 168,
   "metadata": {},
   "outputs": [
    {
     "data": {
      "text/plain": [
       "{'name': 'Onur Umit Sener',\n",
       " 'age': 21,\n",
       " 'education': {'school': 'IDU', 'ongoing': True},\n",
       " 5: 'five',\n",
       " 'liste': [1, 2, 3, 4]}"
      ]
     },
     "execution_count": 168,
     "metadata": {},
     "output_type": "execute_result"
    }
   ],
   "source": [
    "my_dict_1"
   ]
  }
 ],
 "metadata": {
  "kernelspec": {
   "display_name": "Python 3",
   "language": "python",
   "name": "python3"
  },
  "language_info": {
   "codemirror_mode": {
    "name": "ipython",
    "version": 3
   },
   "file_extension": ".py",
   "mimetype": "text/x-python",
   "name": "python",
   "nbconvert_exporter": "python",
   "pygments_lexer": "ipython3",
   "version": "3.11.1"
  },
  "orig_nbformat": 4,
  "vscode": {
   "interpreter": {
    "hash": "bfc19cb684e9ded7d3094e5f1e249fce2bc6abce54be0558935736c5d917d87e"
   }
  }
 },
 "nbformat": 4,
 "nbformat_minor": 2
}
